{
  "nbformat": 4,
  "nbformat_minor": 0,
  "metadata": {
    "colab": {
      "provenance": [],
      "authorship_tag": "ABX9TyPb7bD0qrbADmhXf0/2GLnC",
      "include_colab_link": true
    },
    "kernelspec": {
      "name": "python3",
      "display_name": "Python 3"
    },
    "language_info": {
      "name": "python"
    }
  },
  "cells": [
    {
      "cell_type": "markdown",
      "metadata": {
        "id": "view-in-github",
        "colab_type": "text"
      },
      "source": [
        "<a href=\"https://colab.research.google.com/github/AzureDataGuy/101/blob/master/WorldPopulation.ipynb\" target=\"_parent\"><img src=\"https://colab.research.google.com/assets/colab-badge.svg\" alt=\"Open In Colab\"/></a>"
      ]
    },
    {
      "cell_type": "code",
      "execution_count": null,
      "metadata": {
        "id": "AmNtKEr3jkJ8"
      },
      "outputs": [],
      "source": []
    },
    {
      "cell_type": "code",
      "source": [
        "# Install dependencies\n",
        "!apt-get update > /dev/null\n",
        "!apt install chromium-chromedriver > /dev/null\n",
        "!cp /usr/lib/chromium-browser/chromedriver /usr/bin\n",
        "!pip install selenium pandas > /dev/null\n",
        "\n",
        "import pandas as pd\n",
        "from selenium import webdriver\n",
        "from selenium.webdriver.chrome.service import Service\n",
        "from selenium.webdriver.common.by import By\n",
        "from bs4 import BeautifulSoup\n",
        "import time\n",
        "\n",
        "# Set up headless Chrome\n",
        "options = webdriver.ChromeOptions()\n",
        "options.add_argument(\"--headless\")\n",
        "options.add_argument(\"--disable-dev-shm-usage\")\n",
        "options.add_argument(\"--no-sandbox\")\n",
        "\n",
        "# Launch browser\n",
        "driver = webdriver.Chrome(service=Service(\"/usr/bin/chromedriver\"), options=options)\n",
        "driver.get(\"https://www.worldometers.info/world-population/population-by-country/\")\n",
        "\n",
        "# Wait for page to load fully\n",
        "time.sleep(3)\n",
        "\n",
        "# Parse page source with BeautifulSoup\n",
        "soup = BeautifulSoup(driver.page_source, \"html.parser\")\n",
        "driver.quit()\n",
        "\n",
        "# Find table and parse\n",
        "table = soup.find(\"table\", id=\"example2\")\n",
        "headers = [th.text.strip() for th in table.find_all(\"th\")]\n",
        "rows = []\n",
        "for tr in table.tbody.find_all(\"tr\"):\n",
        "    cols = [td.text.strip() for td in tr.find_all(\"td\")]\n",
        "    rows.append(cols)\n",
        "\n",
        "# Convert to DataFrame\n",
        "df = pd.DataFrame(rows, columns=headers)\n",
        "\n",
        "# Mount Google Drive\n",
        "from google.colab import drive\n",
        "drive.mount('/content/drive')\n",
        "\n",
        "# Save to Drive\n",
        "save_path = '/content/drive/MyDrive/Colab Notebooks/world_population_by_country.csv'\n",
        "df.to_csv(save_path, index=False)\n",
        "\n",
        "print(\"✅ Data saved to:\", save_path)\n",
        "df.head()\n"
      ],
      "metadata": {
        "colab": {
          "base_uri": "https://localhost:8080/"
        },
        "id": "81g6ISYJjwiv",
        "outputId": "394ec6b7-fdf0-4714-9165-e93c389324c6"
      },
      "execution_count": 5,
      "outputs": [
        {
          "output_type": "stream",
          "name": "stdout",
          "text": [
            "Drive already mounted at /content/drive; to attempt to forcibly remount, call drive.mount(\"/content/drive\", force_remount=True).\n",
            "❌ Table not found on the page.\n"
          ]
        }
      ]
    }
  ]
}