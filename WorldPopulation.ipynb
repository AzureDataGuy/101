{
  "nbformat": 4,
  "nbformat_minor": 0,
  "metadata": {
    "colab": {
      "provenance": [],
      "authorship_tag": "ABX9TyNGSZ5XLdhb9TXHaxUjimk5",
      "include_colab_link": true
    },
    "kernelspec": {
      "name": "python3",
      "display_name": "Python 3"
    },
    "language_info": {
      "name": "python"
    }
  },
  "cells": [
    {
      "cell_type": "markdown",
      "metadata": {
        "id": "view-in-github",
        "colab_type": "text"
      },
      "source": [
        "<a href=\"https://colab.research.google.com/github/AzureDataGuy/101/blob/master/WorldPopulation.ipynb\" target=\"_parent\"><img src=\"https://colab.research.google.com/assets/colab-badge.svg\" alt=\"Open In Colab\"/></a>"
      ]
    },
    {
      "cell_type": "code",
      "execution_count": 17,
      "metadata": {
        "colab": {
          "base_uri": "https://localhost:8080/"
        },
        "id": "AmNtKEr3jkJ8",
        "outputId": "28829a93-3261-4c08-f366-38fa7079c7d6"
      },
      "outputs": [
        {
          "output_type": "stream",
          "name": "stdout",
          "text": [
            "Drive already mounted at /content/drive; to attempt to forcibly remount, call drive.mount(\"/content/drive\", force_remount=True).\n",
            "✅ Saved to: /content/drive/MyDrive/Colab Notebooks/world_population.csv\n"
          ]
        }
      ],
      "source": [
        "# Step 1: Mount Google Drive\n",
        "from google.colab import drive\n",
        "drive.mount('/content/drive')\n",
        "\n",
        "# Step 2: Scrape table from worldometers website\n",
        "import requests\n",
        "from bs4 import BeautifulSoup\n",
        "import pandas as pd\n",
        "\n",
        "# Fetch the webpage\n",
        "url = 'https://www.worldometers.info/world-population/population-by-country/'\n",
        "response = requests.get(url)\n",
        "soup = BeautifulSoup(response.content, 'html.parser')\n",
        "\n",
        "# Parse the table\n",
        "table = soup.find('table')\n",
        "tbody = table.find('tbody')\n",
        "\n",
        "# Extract text data\n",
        "table_data = []\n",
        "for row in tbody.find_all('tr'):\n",
        "    cells = row.find_all('td')\n",
        "    row_data = [cell.get_text(strip=True) for cell in cells]\n",
        "    table_data.append(row_data)\n",
        "\n",
        "# Convert to DataFrame\n",
        "df = pd.DataFrame(table_data)\n",
        "df.columns = [\n",
        "    \"#\", \"Country\", \"Population\", \"Yearly % Change\", \"Yearly Change\",\n",
        "    \"Density (P/Km²)\", \"Land Area (Km²)\", \"Migrants (net)\",\n",
        "    \"Fertility Rate\", \"Median Age\", \"Urban Pop %\", \"World Share %\"\n",
        "]\n",
        "\n",
        "# Step 3: Save to your Google Drive Colab folder\n",
        "file_path = '/content/drive/MyDrive/Colab Notebooks/world_population.csv'\n",
        "df.to_csv(file_path, index=False)\n",
        "\n",
        "print(f\"✅ Saved to: {file_path}\")\n"
      ]
    }
  ]
}